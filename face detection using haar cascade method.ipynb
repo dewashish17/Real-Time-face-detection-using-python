{
 "cells": [
  {
   "cell_type": "code",
   "execution_count": 3,
   "metadata": {},
   "outputs": [],
   "source": [
    "import numpy as np\n",
    "import cv2\n",
    "import time"
   ]
  },
  {
   "cell_type": "code",
   "execution_count": 26,
   "metadata": {},
   "outputs": [],
   "source": [
    "img=cv2.imread(\"faces.jpg\");"
   ]
  },
  {
   "cell_type": "code",
   "execution_count": 27,
   "metadata": {},
   "outputs": [],
   "source": [
    "#creating function for displaying\n",
    "def display(img):\n",
    "    cv2.imshow(\"preview\",img)\n",
    "    cv2.waitKey(0);\n",
    "    cv2.destroyAllWindows()"
   ]
  },
  {
   "cell_type": "code",
   "execution_count": 29,
   "metadata": {},
   "outputs": [],
   "source": [
    "image=img.copy()"
   ]
  },
  {
   "cell_type": "code",
   "execution_count": 31,
   "metadata": {},
   "outputs": [],
   "source": [
    "#display what is in image for processing\n",
    "display(image)"
   ]
  },
  {
   "cell_type": "code",
   "execution_count": 42,
   "metadata": {},
   "outputs": [],
   "source": [
    "#creatinng model which detect face and eye\n",
    "face_detect=cv2.CascadeClassifier(\"haarcascade_frontalface_default.xml\")\n",
    "eye_detect=cv2.CascadeClassifier(\"haarcascade_eye.xml\")"
   ]
  },
  {
   "cell_type": "code",
   "execution_count": 32,
   "metadata": {},
   "outputs": [],
   "source": [
    "#use this for only creating boxes around face\n",
    "#play with minneighbor number if you are not satisfied with the image\n",
    "def face_detection(frames):\n",
    "    gray=cv2.cvtColor(frames,cv2.COLOR_BGR2GRAY);\n",
    "    #display(gray)\n",
    "    box,detection=face_detect.detectMultiScale2(gray,minNeighbors=7)\n",
    "    for x,y,w,h in box:\n",
    "        cv2.rectangle(frames,(x,y),(x+w,y+h),(255,0,0),2)\n",
    "    return frames;    "
   ]
  },
  {
   "cell_type": "code",
   "execution_count": 35,
   "metadata": {},
   "outputs": [],
   "source": [
    "#use this for creating box around face as well as eyes\n",
    "def eye_detection(frames):\n",
    "    gray2=cv2.cvtColor(frames,cv2.COLOR_BGR2GRAY);\n",
    "    #display(gray)\n",
    "    box1,detection1=face_detect.detectMultiScale2(gray2,minNeighbors=11)\n",
    "    for x,y,w,h in box1:\n",
    "        cv2.rectangle(frames,(x,y),(x+w,y+h),(0,0,255),2)\n",
    "    #eye detect\n",
    "    gray=cv2.cvtColor(frames,cv2.COLOR_BGR2GRAY);\n",
    "     #display(gray)\n",
    "    box,detection=eye_detect.detectMultiScale2(gray,minNeighbors=11)\n",
    "    for x,y,w,h in box:\n",
    "         cv2.rectangle(frames,(x,y),(x+w,y+h),(255,0,0),2)\n",
    "    return frames;"
   ]
  },
  {
   "cell_type": "code",
   "execution_count": 36,
   "metadata": {},
   "outputs": [],
   "source": [
    "##image detection\n",
    "img_detect = eye_detection(img)\n",
    "\n",
    "\n",
    "cv2.imshow('face detection',img_detect)\n",
    "cv2.waitKey(0)\n",
    "cv2.destroyAllWindows()"
   ]
  },
  {
   "cell_type": "code",
   "execution_count": 41,
   "metadata": {},
   "outputs": [],
   "source": [
    "#live face detection using camera \n",
    "\n",
    "cap=cv2.VideoCapture(0)  # here 0 means default camera, put 1 for external camera\n",
    "while True:\n",
    "    ret, frame=cap.read();\n",
    "    if ret==False:\n",
    "        break;\n",
    "    #frame=face_detection(frame);\n",
    "    frame=eye_detection(frame);\n",
    "    cv2.namedWindow(\"camera on\",cv2.WINDOW_FULLSCREEN)\n",
    "    cv2.putText(frame,\"Press q(in small) to exit\",(40,40),cv2.FONT_HERSHEY_COMPLEX_SMALL,1,(255,0,0),1)\n",
    "    cv2.imshow(\"camera on\",frame);\n",
    "    #cv2.setWindowProperty(\"camera on\",cv2.WINDOW_GUI_EXPANDED,1)\n",
    "    if cv2.waitKey(1)==ord('q'):\n",
    "        break;\n",
    "\n",
    "cap.release();\n",
    "cv2.destroyAllWindows();\n"
   ]
  },
  {
   "cell_type": "code",
   "execution_count": null,
   "metadata": {},
   "outputs": [],
   "source": []
  }
 ],
 "metadata": {
  "kernelspec": {
   "display_name": "Python 3",
   "language": "python",
   "name": "python3"
  },
  "language_info": {
   "codemirror_mode": {
    "name": "ipython",
    "version": 3
   },
   "file_extension": ".py",
   "mimetype": "text/x-python",
   "name": "python",
   "nbconvert_exporter": "python",
   "pygments_lexer": "ipython3",
   "version": "3.8.5"
  }
 },
 "nbformat": 4,
 "nbformat_minor": 5
}
